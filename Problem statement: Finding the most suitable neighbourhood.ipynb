{
 "cells": [
  {
   "cell_type": "markdown",
   "metadata": {},
   "source": [
    "# Background and description of the problem"
   ]
  },
  {
   "cell_type": "markdown",
   "metadata": {},
   "source": [
    "Scarborough is a large, multicultural area of Toronto, Ontario. It is a popular destination among immigrants as it has a lot of facilities such as parks, schools, super markets, medical shops, grocery shops, malls, theatres, hospitals, etc. The area is also known for its diverse spread of restaurants, including regional Southeast Asian, Chinese, and Indian cuisine. \n",
    "\n",
    "The aim of this project is to help people explore the neighbourhoods as per their requirement of facilities. With the help of a comparitive analysis of the neighbourhoods based on :\n",
    "1. a sorted list of house in terms of housing prices, and\n",
    "2. a sorted list of schools in terms of location, fees, ratings and reviews,\n",
    "\n",
    "This would facilitate the decision making process of a person or group of people planning to move to the city."
   ]
  }
 ],
 "metadata": {
  "kernelspec": {
   "display_name": "Python 3",
   "language": "python",
   "name": "python3"
  },
  "language_info": {
   "codemirror_mode": {
    "name": "ipython",
    "version": 3
   },
   "file_extension": ".py",
   "mimetype": "text/x-python",
   "name": "python",
   "nbconvert_exporter": "python",
   "pygments_lexer": "ipython3",
   "version": "3.7.3"
  }
 },
 "nbformat": 4,
 "nbformat_minor": 2
}
